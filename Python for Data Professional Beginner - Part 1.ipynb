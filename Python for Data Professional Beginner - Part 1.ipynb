{
 "cells": [
  {
   "cell_type": "markdown",
   "id": "b586c5c2",
   "metadata": {},
   "source": [
    "# [Python for Data Professional Beginner - Part 1](https://academy.dqlab.id/main/package/practice/157?pf=0)"
   ]
  },
  {
   "cell_type": "markdown",
   "id": "4a165866",
   "metadata": {},
   "source": [
    "Module ini akan memperkenalkan konsep dasar bahasa pemograman Python, memberikan penjelasan mengenai syntax, dan fungsi built-in yang penting untuk dikuasai untuk melakukan pengolahan data, terutama untuk memulai karir sebagai praktisi data, baik Data Analyst (DA), Data Scientist (DS), ataupun Data Engineer (DE). "
   ]
  },
  {
   "cell_type": "markdown",
   "id": "83230c4f",
   "metadata": {},
   "source": [
    "---"
   ]
  },
  {
   "cell_type": "markdown",
   "id": "92cd4d3c",
   "metadata": {},
   "source": [
    "## Chapter 1 - Mari Mengenal Python"
   ]
  },
  {
   "cell_type": "markdown",
   "id": "4335f329",
   "metadata": {},
   "source": [
    "---"
   ]
  },
  {
   "cell_type": "markdown",
   "id": "7aefd525",
   "metadata": {},
   "source": [
    "## Program pertama: \"Hello World\""
   ]
  },
  {
   "cell_type": "code",
   "execution_count": 2,
   "id": "3de6eb38",
   "metadata": {},
   "outputs": [
    {
     "name": "stdout",
     "output_type": "stream",
     "text": [
      "Hello World!\n"
     ]
    }
   ],
   "source": [
    "print(\"Hello World!\")"
   ]
  },
  {
   "cell_type": "markdown",
   "id": "8f11a5a2",
   "metadata": {},
   "source": [
    "## Program Pertamaku"
   ]
  },
  {
   "cell_type": "code",
   "execution_count": 3,
   "id": "fdba21b8",
   "metadata": {},
   "outputs": [
    {
     "name": "stdout",
     "output_type": "stream",
     "text": [
      "Halo Dunia\n",
      "Riset Bahasa Python\n"
     ]
    }
   ],
   "source": [
    "print(\"Halo Dunia\")\n",
    "print(\"Riset Bahasa Python\")"
   ]
  },
  {
   "cell_type": "markdown",
   "id": "64fb32cb",
   "metadata": {},
   "source": [
    "## Struktur Program Python - Part 1"
   ]
  },
  {
   "cell_type": "code",
   "execution_count": 4,
   "id": "4dfbf1a3",
   "metadata": {},
   "outputs": [
    {
     "name": "stdout",
     "output_type": "stream",
     "text": [
      "Belajar Python menyenangkan\n",
      "Halo Dunia\n",
      "Hello World!\n",
      "15\n"
     ]
    }
   ],
   "source": [
    "# Statement\n",
    "print(\"Belajar Python menyenangkan\") \n",
    "print(\"Halo Dunia\")\n",
    "print(\"Hello World!\")\n",
    "\n",
    "# Variables & Literals\n",
    "bilangan1 = 5\n",
    "bilangan2 = 10\n",
    "kalimat1 = \"Belajar Bahasa Python\"\n",
    "\n",
    "# Operators\n",
    "print(bilangan1 + bilangan2)"
   ]
  },
  {
   "cell_type": "markdown",
   "id": "4122f2c3",
   "metadata": {},
   "source": [
    "## Tugas Praktek"
   ]
  },
  {
   "cell_type": "code",
   "execution_count": 5,
   "id": "c3366202",
   "metadata": {},
   "outputs": [
    {
     "name": "stdout",
     "output_type": "stream",
     "text": [
      "10\n"
     ]
    }
   ],
   "source": [
    "bilangan1 = 20\n",
    "bilangan2 = 10\n",
    "print(bilangan1 - bilangan2)"
   ]
  },
  {
   "cell_type": "markdown",
   "id": "d3d26897",
   "metadata": {},
   "source": [
    "## Tugas Praktek"
   ]
  },
  {
   "cell_type": "code",
   "execution_count": 6,
   "id": "85e7f540",
   "metadata": {},
   "outputs": [
    {
     "name": "stdout",
     "output_type": "stream",
     "text": [
      "19800.0\n"
     ]
    }
   ],
   "source": [
    "harga_asli = 20000\n",
    "potongan = 2000\n",
    "harga_setelah_potongan = harga_asli-potongan\n",
    "harga_final = harga_setelah_potongan*1.1\n",
    "print(harga_final)"
   ]
  },
  {
   "cell_type": "markdown",
   "id": "95ca6c23",
   "metadata": {},
   "source": [
    "---"
   ]
  },
  {
   "cell_type": "markdown",
   "id": "85cdeb11",
   "metadata": {},
   "source": [
    "## Chapter 2 - Python Variables & Data Types"
   ]
  },
  {
   "cell_type": "markdown",
   "id": "dfb589ae",
   "metadata": {},
   "source": [
    "---"
   ]
  },
  {
   "cell_type": "markdown",
   "id": "dddc7ff1",
   "metadata": {},
   "source": [
    "### Sequence Type  - Part 1"
   ]
  },
  {
   "cell_type": "code",
   "execution_count": 7,
   "id": "43126c1f",
   "metadata": {},
   "outputs": [
    {
     "name": "stdout",
     "output_type": "stream",
     "text": [
      "1\n",
      "4.0\n",
      "empat\n"
     ]
    }
   ],
   "source": [
    "contoh_list = [1,'dua',3,4.0,5]\n",
    "print(contoh_list[0])\n",
    "print(contoh_list[3])\n",
    "contoh_list = [1,'dua',3,4.0,5]\n",
    "contoh_list[3] = 'empat'\n",
    "print(contoh_list[3])"
   ]
  },
  {
   "cell_type": "markdown",
   "id": "efc9538f",
   "metadata": {},
   "source": [
    "### Sequence Type - Part 2"
   ]
  },
  {
   "cell_type": "code",
   "execution_count": 8,
   "id": "854da6bf",
   "metadata": {},
   "outputs": [
    {
     "name": "stdout",
     "output_type": "stream",
     "text": [
      "Januari\n"
     ]
    },
    {
     "ename": "TypeError",
     "evalue": "'tuple' object does not support item assignment",
     "output_type": "error",
     "traceback": [
      "\u001b[1;31m---------------------------------------------------------------------------\u001b[0m",
      "\u001b[1;31mTypeError\u001b[0m                                 Traceback (most recent call last)",
      "\u001b[1;32m~\\AppData\\Local\\Temp/ipykernel_23256/3533136539.py\u001b[0m in \u001b[0;36m<module>\u001b[1;34m\u001b[0m\n\u001b[0;32m      2\u001b[0m \u001b[0mprint\u001b[0m\u001b[1;33m(\u001b[0m\u001b[0mcontoh_tuple\u001b[0m\u001b[1;33m[\u001b[0m\u001b[1;36m0\u001b[0m\u001b[1;33m]\u001b[0m\u001b[1;33m)\u001b[0m\u001b[1;33m\u001b[0m\u001b[1;33m\u001b[0m\u001b[0m\n\u001b[0;32m      3\u001b[0m \u001b[0mcontoh_tuple\u001b[0m \u001b[1;33m=\u001b[0m \u001b[1;33m(\u001b[0m\u001b[1;34m'Januari'\u001b[0m\u001b[1;33m,\u001b[0m \u001b[1;34m'Februari'\u001b[0m\u001b[1;33m,\u001b[0m \u001b[1;34m'Maret'\u001b[0m\u001b[1;33m,\u001b[0m \u001b[1;34m'April'\u001b[0m\u001b[1;33m)\u001b[0m\u001b[1;33m\u001b[0m\u001b[1;33m\u001b[0m\u001b[0m\n\u001b[1;32m----> 4\u001b[1;33m \u001b[0mcontoh_tuple\u001b[0m\u001b[1;33m[\u001b[0m\u001b[1;36m0\u001b[0m\u001b[1;33m]\u001b[0m \u001b[1;33m=\u001b[0m \u001b[1;34m\"Desember\"\u001b[0m\u001b[1;33m\u001b[0m\u001b[1;33m\u001b[0m\u001b[0m\n\u001b[0m",
      "\u001b[1;31mTypeError\u001b[0m: 'tuple' object does not support item assignment"
     ]
    }
   ],
   "source": [
    "contoh_tuple = ('Januari', 'Februari', 'Maret', 'April')\n",
    "print(contoh_tuple[0])\n",
    "contoh_tuple = ('Januari', 'Februari', 'Maret', 'April')\n",
    "contoh_tuple[0] = \"Desember\""
   ]
  },
  {
   "cell_type": "markdown",
   "id": "03793944",
   "metadata": {},
   "source": [
    "### Set Type"
   ]
  },
  {
   "cell_type": "code",
   "execution_count": 9,
   "id": "f6de2792",
   "metadata": {},
   "outputs": [
    {
     "name": "stdout",
     "output_type": "stream",
     "text": [
      "['Dewi', 'Budi', 'Cici', 'Linda', 'Cici']\n",
      "{'Budi', 'Cici', 'Linda', 'Dewi'}\n",
      "{'Budi', 'Cici', 'Linda', 'Dewi'}\n"
     ]
    }
   ],
   "source": [
    "contoh_list =['Dewi','Budi','Cici','Linda','Cici']\n",
    "print(contoh_list)\n",
    "contoh_set = {'Dewi','Budi','Cici','Linda','Cici'}\n",
    "print(contoh_set)\n",
    "contoh_frozen_set = ({'Dewi','Budi','Cici','Linda','Cici'})\n",
    "print(contoh_frozen_set)"
   ]
  },
  {
   "cell_type": "markdown",
   "id": "421d5d44",
   "metadata": {},
   "source": [
    "### Mapping Type"
   ]
  },
  {
   "cell_type": "code",
   "execution_count": 10,
   "id": "d2ac4c55",
   "metadata": {},
   "outputs": [
    {
     "name": "stdout",
     "output_type": "stream",
     "text": [
      "John Doe\n",
      "Programmer\n"
     ]
    }
   ],
   "source": [
    "person = {'nama' : 'John Doe', 'pekerjaan' : 'Programmer'}\n",
    "print(person['nama'])\n",
    "print(person['pekerjaan'])"
   ]
  },
  {
   "cell_type": "markdown",
   "id": "08e91d19",
   "metadata": {},
   "source": [
    "### Tugas Praktek"
   ]
  },
  {
   "cell_type": "code",
   "execution_count": 11,
   "id": "93495887",
   "metadata": {},
   "outputs": [],
   "source": [
    "sepatu = {\"nama\": \"Sepatu Niko\", \"harga\" : 150000, \"diskon\": 30000}\n",
    "baju = {\"nama\": \"Baju Unikloh\", \"harga\" : 80000, \"diskon\": 8000}\n",
    "celana = {\"nama\": \"Celana Lepis\", \"harga\" : 200000, \"diskon\": 60000}"
   ]
  },
  {
   "cell_type": "markdown",
   "id": "63fd6a22",
   "metadata": {},
   "source": [
    "### Tugas Praktek"
   ]
  },
  {
   "cell_type": "code",
   "execution_count": 12,
   "id": "c07734d4",
   "metadata": {},
   "outputs": [],
   "source": [
    "sepatu = {\"nama\": \"Sepatu Niko\", \"harga\": 150000, \"diskon\": 30000} \n",
    "baju = {\"nama\": \"Baju Unikloh\", \"harga\": 80000, \"diskon\": 8000} \n",
    "celana = {\"nama\": \"Celana Lepis\", \"harga\": 200000, \"diskon\": 60000} \n",
    "daftar_belanja = [sepatu, baju, celana]"
   ]
  },
  {
   "cell_type": "markdown",
   "id": "316475de",
   "metadata": {},
   "source": [
    "### Tugas Praktek"
   ]
  },
  {
   "cell_type": "code",
   "execution_count": 13,
   "id": "841cfa02",
   "metadata": {},
   "outputs": [
    {
     "name": "stdout",
     "output_type": "stream",
     "text": [
      "365200.0\n"
     ]
    }
   ],
   "source": [
    "# Data yang dinyatakan ke dalam dictionary\n",
    "sepatu = {\"nama\": \"Sepatu Niko\", \"harga\": 150000, \"diskon\": 30000} \n",
    "baju = {\"nama\": \"Baju Unikloh\", \"harga\": 80000, \"diskon\": 8000} \n",
    "celana = {\"nama\": \"Celana Lepis\", \"harga\": 200000, \"diskon\": 60000}\n",
    "\n",
    "# Hitunglah harga masing-masing data setelah dikurangi diskon\n",
    "harga_sepatu = sepatu[\"harga\"] - sepatu[\"diskon\"] \n",
    "harga_baju = baju[\"harga\"] - baju[\"diskon\"]\n",
    "harga_celana = celana[\"harga\"] - celana[\"diskon\"]\n",
    "\n",
    "# Hitung harga total\n",
    "total_harga = harga_sepatu + harga_baju + harga_celana\n",
    "\n",
    "# Hitung harga kena pajak\n",
    "total_pajak = total_harga * 0.1\n",
    "\n",
    "# Cetak total_harga + total_pajak\n",
    "print(total_harga+total_pajak)"
   ]
  },
  {
   "cell_type": "markdown",
   "id": "1c73892d",
   "metadata": {},
   "source": [
    "---"
   ]
  },
  {
   "cell_type": "markdown",
   "id": "a2639fe3",
   "metadata": {},
   "source": [
    "## Chapter 3 - Python Operators"
   ]
  },
  {
   "cell_type": "markdown",
   "id": "bd0db7c1",
   "metadata": {},
   "source": [
    "---"
   ]
  },
  {
   "cell_type": "markdown",
   "id": "24fe1e80",
   "metadata": {},
   "source": [
    "### Nilai Prioritas Operator dalam Python - Part 1"
   ]
  },
  {
   "cell_type": "code",
   "execution_count": 14,
   "id": "1b188408",
   "metadata": {},
   "outputs": [
    {
     "name": "stdout",
     "output_type": "stream",
     "text": [
      "Kode awal - harga_bayar= 115500.0\n",
      "Penyederhanaan kode - harga_bayar= 115500.0\n"
     ]
    }
   ],
   "source": [
    "# Kode awal\n",
    "total_harga = 150000\n",
    "potongan_harga = 0.3\n",
    "pajak = 0.1 # pajak dalam persen ~ 10%\n",
    "harga_bayar = 1 - potongan_harga # baris pertama\n",
    "harga_bayar *= total_harga # baris kedua\n",
    "pajak_bayar = pajak * harga_bayar # baris ketiga\n",
    "harga_bayar += pajak_bayar # baris ke-4\n",
    "print(\"Kode awal - harga_bayar=\", harga_bayar)\n",
    "\n",
    "# Penyederhanaan baris kode dengan menerapkan prioritas operator\n",
    "total_harga = 150000\n",
    "potongan_harga = 0.3\n",
    "pajak = 0.1 # pajak dalam persen ~ 10%\n",
    "harga_bayar = (1 - potongan_harga) * total_harga #baris pertama \n",
    "harga_bayar += harga_bayar * pajak # baris kedua\n",
    "print(\"Penyederhanaan kode - harga_bayar=\", harga_bayar)"
   ]
  },
  {
   "cell_type": "markdown",
   "id": "7ce155cf",
   "metadata": {},
   "source": [
    "### Tugas Praktek"
   ]
  },
  {
   "cell_type": "code",
   "execution_count": 15,
   "id": "780670c4",
   "metadata": {},
   "outputs": [
    {
     "name": "stdout",
     "output_type": "stream",
     "text": [
      "365200.00000000006\n"
     ]
    }
   ],
   "source": [
    "sepatu = { \"nama\" : \"Sepatu Niko\", \"harga\": 150000, \"diskon\": 30000 }\n",
    "baju = { \"nama\" : \"Baju Unikloh\", \"harga\": 80000, \"diskon\": 8000 }\n",
    "celana = { \"nama\" : \"Celana Lepis\", \"harga\": 200000, \"diskon\": 60000 }\n",
    "\n",
    "harga_sepatu = sepatu[\"harga\"] - sepatu[\"diskon\"]\n",
    "harga_baju = baju[\"harga\"] - baju[\"diskon\"]\n",
    "harga_celana = celana[\"harga\"] - celana[\"diskon\"]\n",
    "total_harga = (harga_sepatu+harga_baju+harga_celana) * 1.1\n",
    "print(total_harga)"
   ]
  },
  {
   "cell_type": "markdown",
   "id": "66e015af",
   "metadata": {},
   "source": [
    "### Python Conditioning for Decision – Part 2"
   ]
  },
  {
   "cell_type": "code",
   "execution_count": 16,
   "id": "05b83dde",
   "metadata": {},
   "outputs": [
    {
     "name": "stdout",
     "output_type": "stream",
     "text": [
      "x habis dibagi dua\n",
      "x tidak habis dibagi dua, tiga ataupun lima\n"
     ]
    }
   ],
   "source": [
    "# Statement if\n",
    "x = 4\n",
    "if x%2==0: # jika sisa bagi x dengan 2 sama dengan 0\n",
    "    print(\"x habis dibagi dua\") # statemen aksi lebih menjorok ke dalam\n",
    "# Statement if ... elif ... else\n",
    "x = 7\n",
    "if x%2==0: # jika sisa bagi x dengan 2 sama dengan 0\n",
    "    print(\"x habis dibagi dua\")\n",
    "elif x%3==0: # jika sisa bagi x dengan 3 sama dengan 0\n",
    "    print(\"x habis dibagi tiga\")\n",
    "elif x%5==0: # jika sisa bagi x dengan 5 sama dengan 0\n",
    "    print(\"x habis dibagi lima\")\n",
    "else:\n",
    "    print(\"x tidak habis dibagi dua, tiga ataupun lima\")"
   ]
  },
  {
   "cell_type": "markdown",
   "id": "3f6be156",
   "metadata": {},
   "source": [
    "### Python Conditioning for Decision – Part 3"
   ]
  },
  {
   "cell_type": "code",
   "execution_count": 17,
   "id": "ad313581",
   "metadata": {},
   "outputs": [
    {
     "name": "stdout",
     "output_type": "stream",
     "text": [
      "Selamat siang!\n"
     ]
    }
   ],
   "source": [
    "jam = 13\n",
    "if jam>=5 and jam<12: # selama jam di antara 5 s.d. 12\n",
    "    print(\"Selamat pagi!\")\n",
    "elif jam>=12 and jam<17: # selama jam di antara 12 s.d. 17\n",
    "    print(\"Selamat siang!\")\n",
    "elif jam>=17 and jam<19: # selama jam di antara 17 s.d. 19\n",
    "    print(\"Selamat sore!\")\n",
    "else: # selain kondisi di atas\n",
    "    print(\"Selamat malam!\")"
   ]
  },
  {
   "cell_type": "markdown",
   "id": "9e28bc92",
   "metadata": {},
   "source": [
    "### Tugas Praktek"
   ]
  },
  {
   "cell_type": "code",
   "execution_count": 18,
   "id": "d8defaae",
   "metadata": {},
   "outputs": [
    {
     "name": "stdout",
     "output_type": "stream",
     "text": [
      "Tagihan kepada:\n",
      "Mr. Yoyo\n",
      "Selamat pagi, anda harus membayar tagihan sebesar:\n",
      "85000000\n"
     ]
    }
   ],
   "source": [
    "tagihan_ke = 'Mr. Yoyo'\n",
    "warehousing = { 'harga_harian': 1000000, 'total_hari':15 } \n",
    "cleansing = { 'harga_harian': 1500000, 'total_hari':10 } \n",
    "integration = { 'harga_harian':2000000, 'total_hari':15 } \n",
    "transform = { 'harga_harian':2500000, 'total_hari':10 }\n",
    "\n",
    "sub_warehousing = warehousing['harga_harian']*warehousing['total_hari']\n",
    "sub_cleansing = cleansing['harga_harian']*cleansing['total_hari']\n",
    "sub_integration = integration['harga_harian']*integration['total_hari']\n",
    "sub_transform = transform['harga_harian']*transform['total_hari']\n",
    "total_harga = sub_warehousing+sub_cleansing+sub_integration+sub_transform\n",
    "\n",
    "print(\"Tagihan kepada:\") \n",
    "print(tagihan_ke)\n",
    "print(\"Selamat pagi, anda harus membayar tagihan sebesar:\") \n",
    "print(total_harga)"
   ]
  },
  {
   "cell_type": "markdown",
   "id": "46e15e4e",
   "metadata": {},
   "source": [
    "### Tugas Praktek"
   ]
  },
  {
   "cell_type": "code",
   "execution_count": 19,
   "id": "33e2212d",
   "metadata": {},
   "outputs": [
    {
     "name": "stdout",
     "output_type": "stream",
     "text": [
      "Tagihan kepada:\n",
      "Mr. Yoyo\n",
      "Selamat siang, anda harus membayar tagihan sebesar:\n",
      "85000000\n"
     ]
    }
   ],
   "source": [
    "jam = 17\n",
    "tagihan_ke = 'Mr. Yoyo'\n",
    "\n",
    "warehousing = { 'harga_harian': 1000000, 'total_hari':15 } \n",
    "cleansing = { 'harga_harian': 1500000, 'total_hari':10 } \n",
    "integration = { 'harga_harian':2000000, 'total_hari':15 } \n",
    "transform = { 'harga_harian':2500000, 'total_hari':10 }\n",
    "\n",
    "sub_warehousing = warehousing['harga_harian']*warehousing['total_hari'] \n",
    "sub_cleansing = cleansing['harga_harian']*cleansing['total_hari'] \n",
    "sub_integration = integration['harga_harian']*integration['total_hari'] \n",
    "sub_transform = transform['harga_harian']*transform['total_hari']\n",
    "total_harga = sub_warehousing+sub_cleansing+sub_integration+sub_transform\n",
    "print(\"Tagihan kepada:\")\n",
    "print(tagihan_ke)\n",
    "\n",
    "if jam > 19:\n",
    "    print(\"Selamat malam, anda harus membayar tagihan sebesar:\")\n",
    "elif jam > 17:\n",
    "    print(\"Selamat sore, anda harus membayar tagihan sebesar:\") \n",
    "elif jam > 12:\n",
    "    print(\"Selamat siang, anda harus membayar tagihan sebesar:\")\n",
    "else:\n",
    "    print(\"Selamat pagi, anda harus membayar tagihan sebesar:\") \n",
    "print(total_harga)"
   ]
  },
  {
   "cell_type": "markdown",
   "id": "3b512600",
   "metadata": {},
   "source": [
    "### Python while loops – Part 1"
   ]
  },
  {
   "cell_type": "code",
   "execution_count": 20,
   "id": "9262e43f",
   "metadata": {},
   "outputs": [
    {
     "name": "stdout",
     "output_type": "stream",
     "text": [
      "750000\n",
      "750000\n"
     ]
    }
   ],
   "source": [
    "# Tagihan\n",
    "tagihan = [50000, 75000, 125000, 300000, 200000]\n",
    "# Tanpa menggunakan while loop\n",
    "total_tagihan = tagihan[0]+tagihan[1]+tagihan[2]+tagihan[3]+tagihan[4]\n",
    "print(total_tagihan)\n",
    "# Dengan menggunakan while loop\n",
    "i = 0 # sebuah variabel untuk mengakses setiap elemen tagihan satu per satu\n",
    "jumlah_tagihan = len(tagihan) # panjang (jumlah elemen dalam) list tagihan\n",
    "total_tagihan = 0 # mula-mula, set total_tagihan ke 0\n",
    "while i<jumlah_tagihan: # selama nilai i kurang dari jumlah_tagihan\n",
    "    total_tagihan += tagihan[i] # tambahkan tagihan[i] ke total_tagihan\n",
    "    i += 1 # tambahkan nilai i dengan 1 untuk memproses tagihan selanjutnya.\n",
    "print(total_tagihan)"
   ]
  },
  {
   "cell_type": "markdown",
   "id": "134a85ef",
   "metadata": {},
   "source": [
    "### Python while loops – Part 2"
   ]
  },
  {
   "cell_type": "code",
   "execution_count": 21,
   "id": "66fb90de",
   "metadata": {},
   "outputs": [
    {
     "name": "stdout",
     "output_type": "stream",
     "text": [
      "terdapat angka minus dalam tagihan, perhitungan dihentikan!\n",
      "-1\n"
     ]
    }
   ],
   "source": [
    "tagihan = [50000, 75000, -150000, 125000, 300000, -50000, 200000]\n",
    "i = 0\n",
    "jumlah_tagihan = len(tagihan)\n",
    "total_tagihan = 0\n",
    "while i < jumlah_tagihan:\n",
    "    # jika terdapat tagihan ke-i yang bernilai minus (di bawah nol),\n",
    "    # pengulangan akan dihentikan\n",
    "    if tagihan[i]<0:\n",
    "        total_tagihan = -1\n",
    "        print(\"terdapat angka minus dalam tagihan, perhitungan dihentikan!\")\n",
    "        break\n",
    "    total_tagihan += tagihan[i]\n",
    "    i += 1\n",
    "print(total_tagihan)"
   ]
  },
  {
   "cell_type": "markdown",
   "id": "b87e5eef",
   "metadata": {},
   "source": [
    "### Python while loops – Part 3"
   ]
  },
  {
   "cell_type": "code",
   "execution_count": 22,
   "id": "9f199312",
   "metadata": {},
   "outputs": [
    {
     "name": "stdout",
     "output_type": "stream",
     "text": [
      "750000\n"
     ]
    }
   ],
   "source": [
    "tagihan = [50000, 75000, -150000, 125000, 300000, -50000, 200000]\n",
    "i = 0\n",
    "jumlah_tagihan = len(tagihan)\n",
    "total_tagihan = 0\n",
    "while i<jumlah_tagihan:\n",
    "    # jika terdapat tagihan ke-i yang bernilai minus (di bawah nol),\n",
    "    # abaikan tagihan ke-i dan lanjutkan ke tagihan berikutnya\n",
    "    if tagihan[i]<0:\n",
    "        i += 1\n",
    "        continue\n",
    "    total_tagihan += tagihan[i]\n",
    "    i += 1\n",
    "print(total_tagihan)"
   ]
  },
  {
   "cell_type": "markdown",
   "id": "507b0703",
   "metadata": {},
   "source": [
    "### Python for loops – Part 1"
   ]
  },
  {
   "cell_type": "code",
   "execution_count": 23,
   "id": "b297ac6c",
   "metadata": {},
   "outputs": [
    {
     "name": "stdout",
     "output_type": "stream",
     "text": [
      "550000\n"
     ]
    }
   ],
   "source": [
    "list_tagihan = [50000, 75000, -150000, 125000, 300000, -50000, 200000]\n",
    "total_tagihan = 0\n",
    "for tagihan in list_tagihan: # untuk setiap tagihan dalam list_tagihan\n",
    "    total_tagihan += tagihan # tambahkan tagihan ke total_tagihan\n",
    "print(total_tagihan)"
   ]
  },
  {
   "cell_type": "markdown",
   "id": "75ab2af3",
   "metadata": {},
   "source": [
    "### Python for loops – Part 2"
   ]
  },
  {
   "cell_type": "code",
   "execution_count": 24,
   "id": "94aaaa32",
   "metadata": {},
   "outputs": [
    {
     "name": "stdout",
     "output_type": "stream",
     "text": [
      "For loops with break\n",
      "Terdapat angka minus dalam tagihan, perhitungan dihentikan!\n",
      "Total tagihan 125000.\n",
      "\n",
      "For loops with continue\n",
      "Terdapat angka minus dalam tagihan, tagihan -150000 dilewati!\n",
      "Terdapat angka minus dalam tagihan, tagihan -50000 dilewati!\n",
      "Total tagihan 750000.\n"
     ]
    }
   ],
   "source": [
    "list_tagihan = [50000, 75000, -150000, 125000, 300000, -50000, 200000]\n",
    "\n",
    "# For loops with break\n",
    "print(\"For loops with break\")\n",
    "total_tagihan_break = 0\n",
    "for tagihan in list_tagihan:\n",
    "    if tagihan < 0 :\n",
    "        print(\"Terdapat angka minus dalam tagihan, perhitungan dihentikan!\")\n",
    "        break\n",
    "    total_tagihan_break += tagihan\n",
    "print(\"Total tagihan %d.\" % total_tagihan_break)\n",
    "print()\n",
    "\n",
    "# For loops with continue\n",
    "print(\"For loops with continue\")\n",
    "total_tagihan_continue = 0\n",
    "for tagihan in list_tagihan:\n",
    "    if tagihan < 0:\n",
    "        print(\"Terdapat angka minus dalam tagihan, tagihan %d dilewati!\" % tagihan)\n",
    "        continue\n",
    "    total_tagihan_continue += tagihan\n",
    "print(\"Total tagihan %d.\" % total_tagihan_continue)"
   ]
  },
  {
   "cell_type": "markdown",
   "id": "2e4c10d4",
   "metadata": {},
   "source": [
    "### Python for loops – Part 3"
   ]
  },
  {
   "cell_type": "code",
   "execution_count": 25,
   "id": "2a15fe1c",
   "metadata": {},
   "outputs": [
    {
     "name": "stdout",
     "output_type": "stream",
     "text": [
      "Apel Malang\n",
      "Duku Malang\n",
      "Jeruk Malang\n",
      "Apel Palembang\n",
      "Duku Palembang\n",
      "Jeruk Palembang\n",
      "Apel Medan\n",
      "Duku Medan\n",
      "Jeruk Medan\n"
     ]
    }
   ],
   "source": [
    "list_daerah = ['Malang', 'Palembang', 'Medan']\n",
    "list_buah = ['Apel', 'Duku', 'Jeruk']\n",
    "for nama_daerah in list_daerah:\n",
    "    for nama_buah in list_buah:\n",
    "        print(nama_buah+\" \"+nama_daerah)"
   ]
  },
  {
   "cell_type": "markdown",
   "id": "777988b1",
   "metadata": {},
   "source": [
    "### Tugas Praktek"
   ]
  },
  {
   "cell_type": "code",
   "execution_count": 26,
   "id": "7e584596",
   "metadata": {},
   "outputs": [
    {
     "name": "stdout",
     "output_type": "stream",
     "text": [
      "12500000\n",
      "65000000\n"
     ]
    }
   ],
   "source": [
    "list_cash_flow = [\n",
    "2500000, 5000000, -1000000, -2500000, 5000000, 10000000,\n",
    "-5000000, 7500000, 10000000, -1500000, 25000000, -2500000\n",
    "]\n",
    "total_pengeluaran, total_pemasukan = 0, 0\n",
    "for dana in list_cash_flow:\n",
    "    if dana > 0:\n",
    "        total_pemasukan+=dana\n",
    "    else:\n",
    "        total_pengeluaran+=dana\n",
    "total_pengeluaran *= -1\n",
    "print(total_pengeluaran) \n",
    "print(total_pemasukan)"
   ]
  },
  {
   "cell_type": "markdown",
   "id": "825cbb7f",
   "metadata": {},
   "source": [
    "### Mini Quiz\n",
    "#### Ekspedisi Pamanku"
   ]
  },
  {
   "cell_type": "markdown",
   "id": "39ca8b82",
   "metadata": {},
   "source": [
    "Aku menyambar ponsel di meja dan membuka pesan singkat dari paman tempo hari yang menjelaskan jika paman harus mengeluarkan uang sebesar 1,5 juta per mobil dalam sehari. Tapi, beliau selalu kebingungan dengan total pengeluaran per bulan karena adanya aturan ganjil-genap yang membuat pengoperasian mobil yang berbeda.\n",
    "\n",
    "“Kalau begitu, aku akan masukkan variabel jumlah_hari berisi jumlah hari dalam sebulan dan variabel list_plat_nomor berisi seluruh nomor plat mobil milik paman,” gumamku sendiri. Kalau seperti ini paman hanya perlu mengganti variabel jumlah_hari atau modifikasi variabel list_plat_nomor untuk melacak total pengeluaran paman selama sebulan. Ide Cemerlang!"
   ]
  },
  {
   "cell_type": "code",
   "execution_count": 27,
   "id": "426b2edb",
   "metadata": {},
   "outputs": [
    {
     "name": "stdout",
     "output_type": "stream",
     "text": [
      "163500000\n"
     ]
    }
   ],
   "source": [
    "# Data\n",
    "uang_jalan = 1500000\n",
    "jumlah_hari = 31\n",
    "list_plat_nomor = [8993, 2198, 2501, 2735, 3772, 4837, 9152]\n",
    "# Pengecekan kendaraan dengan nomor pelat ganjil atau genap \n",
    "# Deklarasikan kendaraan_genap dan kendaraan_ganjil = 0\n",
    "kendaraan_genap = 0 \n",
    "kendaraan_ganjil = 0\n",
    "for plat_nomor in list_plat_nomor :\n",
    "    if plat_nomor%2==0:\n",
    "        kendaraan_genap+=1 \n",
    "    else:\n",
    "        kendaraan_ganjil+=1\n",
    "# Total pengeluaran untuk kendaraan dengan nomor pelat ganjil \n",
    "# dan genap dalam 1 bulan\n",
    "i = 1\n",
    "total_pengeluaran = 0\n",
    "while i <= jumlah_hari:\n",
    "    if i % 2 == 0:\n",
    "        total_pengeluaran+=(kendaraan_genap*uang_jalan) \n",
    "    else:\n",
    "        total_pengeluaran+=(kendaraan_ganjil*uang_jalan)\n",
    "    i += 1\n",
    "# Cetak total pengeluaran\n",
    "print(total_pengeluaran)"
   ]
  }
 ],
 "metadata": {
  "kernelspec": {
   "display_name": "Python 3 (ipykernel)",
   "language": "python",
   "name": "python3"
  },
  "language_info": {
   "codemirror_mode": {
    "name": "ipython",
    "version": 3
   },
   "file_extension": ".py",
   "mimetype": "text/x-python",
   "name": "python",
   "nbconvert_exporter": "python",
   "pygments_lexer": "ipython3",
   "version": "3.9.5"
  }
 },
 "nbformat": 4,
 "nbformat_minor": 5
}
